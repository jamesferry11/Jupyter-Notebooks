{
 "cells": [
  {
   "cell_type": "code",
   "execution_count": 4,
   "metadata": {
    "collapsed": true
   },
   "outputs": [],
   "source": [
    "import numpy as np"
   ]
  },
  {
   "cell_type": "code",
   "execution_count": 5,
   "metadata": {
    "collapsed": false
   },
   "outputs": [],
   "source": [
    "from numpy.random import randn"
   ]
  },
  {
   "cell_type": "code",
   "execution_count": 6,
   "metadata": {
    "collapsed": false
   },
   "outputs": [
    {
     "data": {
      "text/plain": [
       "array([ -2.29047206e+00,   9.87290610e-01,  -1.17903399e+00,\n",
       "         3.23644309e-02,   1.17501437e+00,  -7.45086476e-01,\n",
       "        -2.61351082e+00,  -1.77410476e+00,  -1.21117030e+00,\n",
       "         1.42916806e-01,   1.37202477e-01,   6.01830792e-01,\n",
       "        -1.77570389e+00,  -3.60617318e-01,   6.05712948e-01,\n",
       "        -9.98145463e-01,   8.74772537e-01,  -2.77647685e-01,\n",
       "         1.84735339e+00,   7.79608830e-01,   1.18330348e+00,\n",
       "         8.30645749e-01,  -6.49762341e-01,  -1.64970094e-01,\n",
       "         1.16893648e+00,   1.00341267e+00,  -1.77213769e-01,\n",
       "         1.66490459e-01,  -1.14532000e+00,   2.75440680e+00,\n",
       "         6.27523228e-01,   2.50621994e-01,  -1.42471638e+00,\n",
       "         7.76017846e-01,  -1.47205288e-02,   2.44754131e-01,\n",
       "         5.67577359e-01,  -7.33178017e-01,   3.78150254e-03,\n",
       "         1.24964161e+00,   2.52750836e+00,  -1.87184638e-01,\n",
       "        -2.07495739e+00,  -1.04400005e+00,   7.32616242e-01,\n",
       "         1.28153299e+00,   1.22758829e+00,   4.57702458e-01,\n",
       "        -7.90916828e-01,  -7.80510187e-01,  -2.03594819e-01,\n",
       "        -6.34462389e-01,   2.45464333e+00,   1.79998572e+00,\n",
       "         1.60245388e+00,   5.40003749e-01,  -2.05221905e+00,\n",
       "        -4.54516623e-01,   8.40699649e-01,  -7.47545379e-01,\n",
       "         1.85106705e+00,  -1.41015502e+00,  -1.06866227e+00,\n",
       "         6.28996905e-01,   3.46702748e-01,   1.13471646e+00,\n",
       "         7.61384614e-01,   1.18308960e+00,  -7.43273247e-01,\n",
       "        -4.18057878e-01,  -6.87061287e-01,  -1.53039665e+00,\n",
       "         1.12121330e+00,  -4.67076512e-01,  -2.34424588e+00,\n",
       "         9.28909390e-01,  -3.20792541e-01,  -4.19509469e-01,\n",
       "        -1.09013790e+00,   4.03888658e-01,   1.11765818e-01,\n",
       "         1.91943031e-01,   1.17054434e-01,  -1.59907589e+00,\n",
       "         9.95327219e-01,  -2.06925194e+00,   1.25518897e+00,\n",
       "         6.25842668e-01,   7.73055803e-01,  -2.82510082e+00,\n",
       "         6.92448990e-02,  -5.27163508e-01,  -3.39389976e-01,\n",
       "        -7.08491678e-01,   3.00630119e-01,   1.95145214e-01,\n",
       "         1.85003569e-01,   1.47853155e-03,  -1.71768623e-01,\n",
       "        -1.50843068e-01])"
      ]
     },
     "execution_count": 6,
     "metadata": {},
     "output_type": "execute_result"
    }
   ],
   "source": [
    "randn(100)"
   ]
  },
  {
   "cell_type": "code",
   "execution_count": 7,
   "metadata": {
    "collapsed": false
   },
   "outputs": [
    {
     "ename": "SyntaxError",
     "evalue": "invalid syntax (<ipython-input-7-08af724a967f>, line 1)",
     "output_type": "error",
     "traceback": [
      "\u001b[0;36m  File \u001b[0;32m\"<ipython-input-7-08af724a967f>\"\u001b[0;36m, line \u001b[0;32m1\u001b[0m\n\u001b[0;31m    N =\u001b[0m\n\u001b[0m        ^\u001b[0m\n\u001b[0;31mSyntaxError\u001b[0m\u001b[0;31m:\u001b[0m invalid syntax\n"
     ]
    }
   ],
   "source": [
    "N = 100\n",
    "counter = 0\n",
    "for  randn(N):\n",
    "    if( and ):\n",
    "        counter = \n",
    "answer = counter / N\n",
    "print(answer)"
   ]
  },
  {
   "cell_type": "code",
   "execution_count": null,
   "metadata": {
    "collapsed": true
   },
   "outputs": [],
   "source": []
  }
 ],
 "metadata": {
  "kernelspec": {
   "display_name": "Python [conda root]",
   "language": "python",
   "name": "conda-root-py"
  },
  "language_info": {
   "codemirror_mode": {
    "name": "ipython",
    "version": 3
   },
   "file_extension": ".py",
   "mimetype": "text/x-python",
   "name": "python",
   "nbconvert_exporter": "python",
   "pygments_lexer": "ipython3",
   "version": "3.5.2"
  }
 },
 "nbformat": 4,
 "nbformat_minor": 1
}
